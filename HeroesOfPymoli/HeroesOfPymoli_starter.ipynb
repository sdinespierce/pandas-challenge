{
 "cells": [
  {
   "cell_type": "markdown",
   "metadata": {},
   "source": [
    "### Note\n",
    "* Instructions have been included for each segment. You do not have to follow them exactly, but they are included to help you think through the steps."
   ]
  },
  {
   "cell_type": "code",
   "execution_count": 1,
   "metadata": {},
   "outputs": [
    {
     "output_type": "execute_result",
     "data": {
      "text/plain": [
       "   Purchase ID             SN  Age Gender  Item ID  \\\n",
       "0            0        Lisim78   20   Male      108   \n",
       "1            1    Lisovynya38   40   Male      143   \n",
       "2            2     Ithergue48   24   Male       92   \n",
       "3            3  Chamassasya86   24   Male      100   \n",
       "4            4      Iskosia90   23   Male      131   \n",
       "\n",
       "                                   Item Name  Price  \n",
       "0  Extraction, Quickblade Of Trembling Hands   3.53  \n",
       "1                          Frenzied Scimitar   1.56  \n",
       "2                               Final Critic   4.88  \n",
       "3                                Blindscythe   3.27  \n",
       "4                                       Fury   1.44  "
      ],
      "text/html": "<div>\n<style scoped>\n    .dataframe tbody tr th:only-of-type {\n        vertical-align: middle;\n    }\n\n    .dataframe tbody tr th {\n        vertical-align: top;\n    }\n\n    .dataframe thead th {\n        text-align: right;\n    }\n</style>\n<table border=\"1\" class=\"dataframe\">\n  <thead>\n    <tr style=\"text-align: right;\">\n      <th></th>\n      <th>Purchase ID</th>\n      <th>SN</th>\n      <th>Age</th>\n      <th>Gender</th>\n      <th>Item ID</th>\n      <th>Item Name</th>\n      <th>Price</th>\n    </tr>\n  </thead>\n  <tbody>\n    <tr>\n      <th>0</th>\n      <td>0</td>\n      <td>Lisim78</td>\n      <td>20</td>\n      <td>Male</td>\n      <td>108</td>\n      <td>Extraction, Quickblade Of Trembling Hands</td>\n      <td>3.53</td>\n    </tr>\n    <tr>\n      <th>1</th>\n      <td>1</td>\n      <td>Lisovynya38</td>\n      <td>40</td>\n      <td>Male</td>\n      <td>143</td>\n      <td>Frenzied Scimitar</td>\n      <td>1.56</td>\n    </tr>\n    <tr>\n      <th>2</th>\n      <td>2</td>\n      <td>Ithergue48</td>\n      <td>24</td>\n      <td>Male</td>\n      <td>92</td>\n      <td>Final Critic</td>\n      <td>4.88</td>\n    </tr>\n    <tr>\n      <th>3</th>\n      <td>3</td>\n      <td>Chamassasya86</td>\n      <td>24</td>\n      <td>Male</td>\n      <td>100</td>\n      <td>Blindscythe</td>\n      <td>3.27</td>\n    </tr>\n    <tr>\n      <th>4</th>\n      <td>4</td>\n      <td>Iskosia90</td>\n      <td>23</td>\n      <td>Male</td>\n      <td>131</td>\n      <td>Fury</td>\n      <td>1.44</td>\n    </tr>\n  </tbody>\n</table>\n</div>"
     },
     "metadata": {},
     "execution_count": 1
    }
   ],
   "source": [
    "# Dependencies and Setup\n",
    "import pandas as pd\n",
    "import numpy as np\n",
    "\n",
    "# File to Load (Remember to Change These)\n",
    "file_to_load = \"Resources/purchase_data.csv\"\n",
    "\n",
    "# Read Purchasing File and store into Pandas data frame\n",
    "purchase_data = pd.read_csv(file_to_load)\n",
    "\n",
    "purchase_data.head()"
   ]
  },
  {
   "cell_type": "markdown",
   "metadata": {},
   "source": [
    "## Player Count"
   ]
  },
  {
   "cell_type": "markdown",
   "metadata": {},
   "source": [
    "* Display the total number of players\n"
   ]
  },
  {
   "cell_type": "code",
   "execution_count": 2,
   "metadata": {},
   "outputs": [
    {
     "output_type": "execute_result",
     "data": {
      "text/plain": [
       "576"
      ]
     },
     "metadata": {},
     "execution_count": 2
    }
   ],
   "source": [
    "user_raw_df = purchase_data[[\"SN\", \"Age\", \"Gender\"]]\n",
    "user_df = user_raw_df.drop_duplicates(subset = [\"SN\"])\n",
    "user_df.reset_index(inplace = True)\n",
    "num_players = user_df[\"SN\"].count()\n",
    "num_players\n",
    "\n",
    "#TODO: create df with unique SNs, purchase id, item id and item name joined by \";\", price summed\n",
    "#new_df = purchase_data.groupby(\"SN\").agg({\"Purchase ID\": \";\".join, \"Age\": \"first\", \"Gender\": \"first\", \"Item ID\":\";\".join, \"Item Name\": \";\".join, \"Price\": \"sum\"})\n",
    "\n",
    "\n",
    "\n",
    "#TESTING BELOW\n",
    "\n",
    "#new_df = purchase_data.groupby(\"SN\").agg({\"Gender\": \"first\", \"Price\": \"sum\"})\n",
    "#new_df.head()\n",
    "\n",
    "#unique_group = purchase_data.groupby([\"Gender\",\"SN\"])[\"Price\"].apply(np.mean)\n",
    "#unique_df = pd.DataFrame({\"Gender\": unique_group.index[1], \"Value\":unique_group.values})"
   ]
  },
  {
   "cell_type": "markdown",
   "metadata": {},
   "source": [
    "## Purchasing Analysis (Total)"
   ]
  },
  {
   "cell_type": "markdown",
   "metadata": {},
   "source": [
    "* Run basic calculations to obtain number of unique items, average price, etc.\n",
    "\n",
    "\n",
    "* Create a summary data frame to hold the results\n",
    "\n",
    "\n",
    "* Optional: give the displayed data cleaner formatting\n",
    "\n",
    "\n",
    "* Display the summary data frame\n"
   ]
  },
  {
   "cell_type": "code",
   "execution_count": 3,
   "metadata": {
    "scrolled": true
   },
   "outputs": [
    {
     "output_type": "execute_result",
     "data": {
      "text/plain": [
       "                 Category       Result\n",
       "0            Unique Items   179.000000\n",
       "1  Average Purchase Price     3.050987\n",
       "2      Average Player Age    22.741319\n",
       "3          Purchase Total  2379.770000"
      ],
      "text/html": "<div>\n<style scoped>\n    .dataframe tbody tr th:only-of-type {\n        vertical-align: middle;\n    }\n\n    .dataframe tbody tr th {\n        vertical-align: top;\n    }\n\n    .dataframe thead th {\n        text-align: right;\n    }\n</style>\n<table border=\"1\" class=\"dataframe\">\n  <thead>\n    <tr style=\"text-align: right;\">\n      <th></th>\n      <th>Category</th>\n      <th>Result</th>\n    </tr>\n  </thead>\n  <tbody>\n    <tr>\n      <th>0</th>\n      <td>Unique Items</td>\n      <td>179.000000</td>\n    </tr>\n    <tr>\n      <th>1</th>\n      <td>Average Purchase Price</td>\n      <td>3.050987</td>\n    </tr>\n    <tr>\n      <th>2</th>\n      <td>Average Player Age</td>\n      <td>22.741319</td>\n    </tr>\n    <tr>\n      <th>3</th>\n      <td>Purchase Total</td>\n      <td>2379.770000</td>\n    </tr>\n  </tbody>\n</table>\n</div>"
     },
     "metadata": {},
     "execution_count": 3
    }
   ],
   "source": [
    "num_unique_items = len(purchase_data[\"Item Name\"].unique())\n",
    "#print(num_unique_items)\n",
    "avg_price = purchase_data[\"Price\"].mean()\n",
    "#print(avg_price)\n",
    "gender_count_series = user_df[\"Gender\"].value_counts()\n",
    "avg_age = user_df[\"Age\"].mean()\n",
    "median_age = user_df[\"Age\"].median()\n",
    "#print(avg_age)\n",
    "min_age = user_df[\"Age\"].min()\n",
    "max_age = user_df[\"Age\"].max()\n",
    "#TODO: purchases per player, which player spent the most, \n",
    "#col names: unique items, avg price, avg user age, total money spent, most popular item\n",
    "data = {\"Category\": [\"Unique Items\", \"Average Purchase Price\", \"Average Player Age\", \"Purchase Total\"],\n",
    "        \"Result\": [num_unique_items, avg_price, avg_age, purchase_data[\"Price\"].sum()]}\n",
    "summary_df = pd.DataFrame(data)\n",
    "summary_df.head()"
   ]
  },
  {
   "cell_type": "markdown",
   "metadata": {},
   "source": [
    "## Gender Demographics"
   ]
  },
  {
   "cell_type": "markdown",
   "metadata": {},
   "source": [
    "* Percentage and Count of Male Players\n",
    "\n",
    "\n",
    "* Percentage and Count of Female Players\n",
    "\n",
    "\n",
    "* Percentage and Count of Other / Non-Disclosed\n",
    "\n",
    "\n"
   ]
  },
  {
   "cell_type": "code",
   "execution_count": 4,
   "metadata": {},
   "outputs": [
    {
     "output_type": "execute_result",
     "data": {
      "text/plain": [
       "                       Count  Percentage\n",
       "Male                     484    0.840278\n",
       "Female                    81    0.140625\n",
       "Other / Non-Disclosed     11    0.019097"
      ],
      "text/html": "<div>\n<style scoped>\n    .dataframe tbody tr th:only-of-type {\n        vertical-align: middle;\n    }\n\n    .dataframe tbody tr th {\n        vertical-align: top;\n    }\n\n    .dataframe thead th {\n        text-align: right;\n    }\n</style>\n<table border=\"1\" class=\"dataframe\">\n  <thead>\n    <tr style=\"text-align: right;\">\n      <th></th>\n      <th>Count</th>\n      <th>Percentage</th>\n    </tr>\n  </thead>\n  <tbody>\n    <tr>\n      <th>Male</th>\n      <td>484</td>\n      <td>0.840278</td>\n    </tr>\n    <tr>\n      <th>Female</th>\n      <td>81</td>\n      <td>0.140625</td>\n    </tr>\n    <tr>\n      <th>Other / Non-Disclosed</th>\n      <td>11</td>\n      <td>0.019097</td>\n    </tr>\n  </tbody>\n</table>\n</div>"
     },
     "metadata": {},
     "execution_count": 4
    }
   ],
   "source": [
    "#TODO: format percent with mapping\n",
    "frame = {\"Count\": gender_count_series, \"Percentage\": gender_count_series / num_players}\n",
    "gender_df = pd.DataFrame(frame)\n",
    "gender_df"
   ]
  },
  {
   "cell_type": "markdown",
   "metadata": {},
   "source": [
    "\n",
    "## Purchasing Analysis (Gender)"
   ]
  },
  {
   "cell_type": "markdown",
   "metadata": {},
   "source": [
    "* Run basic calculations to obtain purchase count, avg. purchase price, avg. purchase total per person etc. by gender\n",
    "\n",
    "\n",
    "\n",
    "\n",
    "* Create a summary data frame to hold the results\n",
    "\n",
    "\n",
    "* Optional: give the displayed data cleaner formatting\n",
    "\n",
    "\n",
    "* Display the summary data frame"
   ]
  },
  {
   "cell_type": "code",
   "execution_count": 5,
   "metadata": {},
   "outputs": [
    {
     "output_type": "execute_result",
     "data": {
      "text/plain": [
       "                       Total money  Purchase Count  num of players  \\\n",
       "Gender                                                               \n",
       "Female                      361.94             113              81   \n",
       "Male                       1967.64             652             484   \n",
       "Other / Non-Disclosed        50.19              15              11   \n",
       "\n",
       "                       Price/purchase  Purchases/Person  Money/Person  \n",
       "Gender                                                                 \n",
       "Female                       3.203009          1.395062      4.468395  \n",
       "Male                         3.017853          1.347107      4.065372  \n",
       "Other / Non-Disclosed        3.346000          1.363636      4.562727  "
      ],
      "text/html": "<div>\n<style scoped>\n    .dataframe tbody tr th:only-of-type {\n        vertical-align: middle;\n    }\n\n    .dataframe tbody tr th {\n        vertical-align: top;\n    }\n\n    .dataframe thead th {\n        text-align: right;\n    }\n</style>\n<table border=\"1\" class=\"dataframe\">\n  <thead>\n    <tr style=\"text-align: right;\">\n      <th></th>\n      <th>Total money</th>\n      <th>Purchase Count</th>\n      <th>num of players</th>\n      <th>Price/purchase</th>\n      <th>Purchases/Person</th>\n      <th>Money/Person</th>\n    </tr>\n    <tr>\n      <th>Gender</th>\n      <th></th>\n      <th></th>\n      <th></th>\n      <th></th>\n      <th></th>\n      <th></th>\n    </tr>\n  </thead>\n  <tbody>\n    <tr>\n      <th>Female</th>\n      <td>361.94</td>\n      <td>113</td>\n      <td>81</td>\n      <td>3.203009</td>\n      <td>1.395062</td>\n      <td>4.468395</td>\n    </tr>\n    <tr>\n      <th>Male</th>\n      <td>1967.64</td>\n      <td>652</td>\n      <td>484</td>\n      <td>3.017853</td>\n      <td>1.347107</td>\n      <td>4.065372</td>\n    </tr>\n    <tr>\n      <th>Other / Non-Disclosed</th>\n      <td>50.19</td>\n      <td>15</td>\n      <td>11</td>\n      <td>3.346000</td>\n      <td>1.363636</td>\n      <td>4.562727</td>\n    </tr>\n  </tbody>\n</table>\n</div>"
     },
     "metadata": {},
     "execution_count": 5
    }
   ],
   "source": [
    "#TODO: add % column; Organize columns \n",
    "\n",
    "#purchase ct: orig df group by gender\n",
    "gender_groups = purchase_data.groupby(\"Gender\")\n",
    "num_of_buys = gender_groups[\"Item ID\"].count()\n",
    "#total: group by gender, sum price\n",
    "total_money = gender_groups[\"Price\"].sum()\n",
    "#avg purchase price: group by gender, total / purchase ct\n",
    "avg_purchase = gender_groups[\"Price\"].mean()\n",
    "#avg purchases per person: groupby gender, sn, ?\n",
    "purchases_per_person = gender_groups[\"SN\"].count()/gender_groups[\"SN\"].nunique()\n",
    "money_per_person = total_money / gender_groups[\"SN\"].nunique()\n",
    "num_of_players = gender_groups[\"SN\"].nunique()\n",
    "\n",
    "purchase_analysis_gender_df = pd.concat([total_money, num_of_buys, num_of_players, avg_purchase, purchases_per_person, money_per_person], axis=1)\n",
    "purchase_analysis_gender_df.columns = [\"Total money\", \"Purchase Count\", \"num of players\", \"Price/purchase\", \"Purchases/Person\", \"Money/Person\"]\n",
    "purchase_analysis_gender_df"
   ]
  },
  {
   "cell_type": "markdown",
   "metadata": {},
   "source": [
    "## Age Demographics"
   ]
  },
  {
   "cell_type": "markdown",
   "metadata": {},
   "source": [
    "* Establish bins for ages\n",
    "\n",
    "\n",
    "* Categorize the existing players using the age bins. Hint: use pd.cut()\n",
    "\n",
    "\n",
    "* Calculate the numbers and percentages by age group\n",
    "\n",
    "\n",
    "* Create a summary data frame to hold the results\n",
    "\n",
    "\n",
    "* Optional: round the percentage column to two decimal points\n",
    "\n",
    "\n",
    "* Display Age Demographics Table\n"
   ]
  },
  {
   "cell_type": "code",
   "execution_count": 6,
   "metadata": {},
   "outputs": [
    {
     "output_type": "execute_result",
     "data": {
      "text/plain": [
       "           Number of Players  Percent of Players\n",
       "Age Group                                       \n",
       "<10                       17            0.029514\n",
       "10-14                     22            0.038194\n",
       "15-19                    107            0.185764\n",
       "20-24                    258            0.447917\n",
       "25-29                     77            0.133681\n",
       "30-34                     52            0.090278\n",
       "35-39                     31            0.053819\n",
       "40+                       12            0.020833"
      ],
      "text/html": "<div>\n<style scoped>\n    .dataframe tbody tr th:only-of-type {\n        vertical-align: middle;\n    }\n\n    .dataframe tbody tr th {\n        vertical-align: top;\n    }\n\n    .dataframe thead th {\n        text-align: right;\n    }\n</style>\n<table border=\"1\" class=\"dataframe\">\n  <thead>\n    <tr style=\"text-align: right;\">\n      <th></th>\n      <th>Number of Players</th>\n      <th>Percent of Players</th>\n    </tr>\n    <tr>\n      <th>Age Group</th>\n      <th></th>\n      <th></th>\n    </tr>\n  </thead>\n  <tbody>\n    <tr>\n      <th>&lt;10</th>\n      <td>17</td>\n      <td>0.029514</td>\n    </tr>\n    <tr>\n      <th>10-14</th>\n      <td>22</td>\n      <td>0.038194</td>\n    </tr>\n    <tr>\n      <th>15-19</th>\n      <td>107</td>\n      <td>0.185764</td>\n    </tr>\n    <tr>\n      <th>20-24</th>\n      <td>258</td>\n      <td>0.447917</td>\n    </tr>\n    <tr>\n      <th>25-29</th>\n      <td>77</td>\n      <td>0.133681</td>\n    </tr>\n    <tr>\n      <th>30-34</th>\n      <td>52</td>\n      <td>0.090278</td>\n    </tr>\n    <tr>\n      <th>35-39</th>\n      <td>31</td>\n      <td>0.053819</td>\n    </tr>\n    <tr>\n      <th>40+</th>\n      <td>12</td>\n      <td>0.020833</td>\n    </tr>\n  </tbody>\n</table>\n</div>"
     },
     "metadata": {},
     "execution_count": 6
    }
   ],
   "source": [
    "bins = [0, 9, 14, 19, 24, 29, 34, 39, 100]\n",
    "labels = [\"<10\", \"10-14\", \"15-19\", \"20-24\", \"25-29\", \"30-34\", \"35-39\", \"40+\"]\n",
    "age_demo_df = user_df.copy()\n",
    "#user_df\n",
    "age_demo_df[\"Age Group\"] = pd.cut(user_df[\"Age\"], bins=bins, labels=labels)\n",
    "age_groupby = age_demo_df.groupby(\"Age Group\")\n",
    "#series with numbers in each age group\n",
    "num_age_group = age_groupby[\"index\"].count()\n",
    "total_users = num_age_group.sum()\n",
    "#series of percentage in each age group\n",
    "percent_age_group = num_age_group / total_users\n",
    "#num_age_group\n",
    "#percent_age_group\n",
    "new_age_demo_df = pd.concat([num_age_group, percent_age_group], axis=1)\n",
    "new_age_demo_df.columns = (\"Number of Players\", \"Percent of Players\")\n",
    "new_age_demo_df\n",
    "\n",
    "#TODO: clean up code\n",
    "#user_df\n",
    "#<10, 10-14, 15-19, 20-24, 25-29, 30-34, 35-39, 40+\n",
    "#cols:total count, percentage of players"
   ]
  },
  {
   "cell_type": "markdown",
   "metadata": {},
   "source": [
    "## Purchasing Analysis (Age)"
   ]
  },
  {
   "cell_type": "markdown",
   "metadata": {},
   "source": [
    "* Bin the purchase_data data frame by age\n",
    "\n",
    "\n",
    "* Run basic calculations to obtain purchase count, avg. purchase price, avg. purchase total per person etc. in the table below\n",
    "\n",
    "\n",
    "* Create a summary data frame to hold the results\n",
    "\n",
    "\n",
    "* Optional: give the displayed data cleaner formatting\n",
    "\n",
    "\n",
    "* Display the summary data frame"
   ]
  },
  {
   "cell_type": "code",
   "execution_count": 7,
   "metadata": {},
   "outputs": [
    {
     "output_type": "execute_result",
     "data": {
      "text/plain": [
       "           Purchase Count  Average Purchase Price  Total Purchase Value  \\\n",
       "Age Group                                                                 \n",
       "<10                    23                3.353478                 77.13   \n",
       "10-14                  28                2.956429                 82.78   \n",
       "15-19                 136                3.035956                412.89   \n",
       "20-24                 365                3.052219               1114.06   \n",
       "25-29                 101                2.900990                293.00   \n",
       "30-34                  73                2.931507                214.00   \n",
       "35-39                  41                3.601707                147.67   \n",
       "40+                    13                2.941538                 38.24   \n",
       "\n",
       "           Avg Total Purchase Per Person  \n",
       "Age Group                                 \n",
       "<10                             4.537059  \n",
       "10-14                           3.762727  \n",
       "15-19                           3.858785  \n",
       "20-24                           4.318062  \n",
       "25-29                           3.805195  \n",
       "30-34                           4.115385  \n",
       "35-39                           4.763548  \n",
       "40+                             3.186667  "
      ],
      "text/html": "<div>\n<style scoped>\n    .dataframe tbody tr th:only-of-type {\n        vertical-align: middle;\n    }\n\n    .dataframe tbody tr th {\n        vertical-align: top;\n    }\n\n    .dataframe thead th {\n        text-align: right;\n    }\n</style>\n<table border=\"1\" class=\"dataframe\">\n  <thead>\n    <tr style=\"text-align: right;\">\n      <th></th>\n      <th>Purchase Count</th>\n      <th>Average Purchase Price</th>\n      <th>Total Purchase Value</th>\n      <th>Avg Total Purchase Per Person</th>\n    </tr>\n    <tr>\n      <th>Age Group</th>\n      <th></th>\n      <th></th>\n      <th></th>\n      <th></th>\n    </tr>\n  </thead>\n  <tbody>\n    <tr>\n      <th>&lt;10</th>\n      <td>23</td>\n      <td>3.353478</td>\n      <td>77.13</td>\n      <td>4.537059</td>\n    </tr>\n    <tr>\n      <th>10-14</th>\n      <td>28</td>\n      <td>2.956429</td>\n      <td>82.78</td>\n      <td>3.762727</td>\n    </tr>\n    <tr>\n      <th>15-19</th>\n      <td>136</td>\n      <td>3.035956</td>\n      <td>412.89</td>\n      <td>3.858785</td>\n    </tr>\n    <tr>\n      <th>20-24</th>\n      <td>365</td>\n      <td>3.052219</td>\n      <td>1114.06</td>\n      <td>4.318062</td>\n    </tr>\n    <tr>\n      <th>25-29</th>\n      <td>101</td>\n      <td>2.900990</td>\n      <td>293.00</td>\n      <td>3.805195</td>\n    </tr>\n    <tr>\n      <th>30-34</th>\n      <td>73</td>\n      <td>2.931507</td>\n      <td>214.00</td>\n      <td>4.115385</td>\n    </tr>\n    <tr>\n      <th>35-39</th>\n      <td>41</td>\n      <td>3.601707</td>\n      <td>147.67</td>\n      <td>4.763548</td>\n    </tr>\n    <tr>\n      <th>40+</th>\n      <td>13</td>\n      <td>2.941538</td>\n      <td>38.24</td>\n      <td>3.186667</td>\n    </tr>\n  </tbody>\n</table>\n</div>"
     },
     "metadata": {},
     "execution_count": 7
    }
   ],
   "source": [
    "age_analysis_df = purchase_data.copy()\r\n",
    "age_analysis_df[\"Age Group\"] = pd.cut(age_analysis_df[\"Age\"], bins=bins, labels=labels)\r\n",
    "age_analysis_groupby = age_analysis_df.groupby(\"Age Group\")\r\n",
    "purchase_count_series = age_analysis_groupby[\"SN\"].count()\r\n",
    "avg_purchase_price_series = age_analysis_groupby[\"Price\"].mean()\r\n",
    "total_purchase_value_series = age_analysis_groupby[\"Price\"].sum()\r\n",
    "avg_total_per_person_series = total_purchase_value_series / num_age_group\r\n",
    "\r\n",
    "new_age_analysis_df = pd.concat([purchase_count_series, avg_purchase_price_series, total_purchase_value_series, avg_total_per_person_series], axis=1)\r\n",
    "new_age_analysis_df.columns = (\"Purchase Count\", \"Average Purchase Price\", \"Total Purchase Value\", \"Avg Total Purchase Per Person\")\r\n",
    "new_age_analysis_df\r\n",
    "\r\n",
    "#Purchase Count, Average Purchase Price, Total Purchase Value, Avg Total Purchase per Person\r\n",
    "#TODO: format money values with mapping"
   ]
  },
  {
   "cell_type": "markdown",
   "metadata": {},
   "source": [
    "## Top Spenders"
   ]
  },
  {
   "cell_type": "markdown",
   "metadata": {},
   "source": [
    "* Run basic calculations to obtain the results in the table below\n",
    "\n",
    "\n",
    "* Create a summary data frame to hold the results\n",
    "\n",
    "\n",
    "* Sort the total purchase value column in descending order\n",
    "\n",
    "\n",
    "* Optional: give the displayed data cleaner formatting\n",
    "\n",
    "\n",
    "* Display a preview of the summary data frame\n",
    "\n"
   ]
  },
  {
   "cell_type": "code",
   "execution_count": 8,
   "metadata": {},
   "outputs": [
    {
     "output_type": "execute_result",
     "data": {
      "text/plain": [
       "             Purchase Count  Average Purchase Price  Total Purchase Value\n",
       "Lisosia93                 5                3.792000                 18.96\n",
       "Idastidru52               4                3.862500                 15.45\n",
       "Chamjask73                3                4.610000                 13.83\n",
       "Iral74                    4                3.405000                 13.62\n",
       "Iskadarya95               3                4.366667                 13.10"
      ],
      "text/html": "<div>\n<style scoped>\n    .dataframe tbody tr th:only-of-type {\n        vertical-align: middle;\n    }\n\n    .dataframe tbody tr th {\n        vertical-align: top;\n    }\n\n    .dataframe thead th {\n        text-align: right;\n    }\n</style>\n<table border=\"1\" class=\"dataframe\">\n  <thead>\n    <tr style=\"text-align: right;\">\n      <th></th>\n      <th>Purchase Count</th>\n      <th>Average Purchase Price</th>\n      <th>Total Purchase Value</th>\n    </tr>\n  </thead>\n  <tbody>\n    <tr>\n      <th>Lisosia93</th>\n      <td>5</td>\n      <td>3.792000</td>\n      <td>18.96</td>\n    </tr>\n    <tr>\n      <th>Idastidru52</th>\n      <td>4</td>\n      <td>3.862500</td>\n      <td>15.45</td>\n    </tr>\n    <tr>\n      <th>Chamjask73</th>\n      <td>3</td>\n      <td>4.610000</td>\n      <td>13.83</td>\n    </tr>\n    <tr>\n      <th>Iral74</th>\n      <td>4</td>\n      <td>3.405000</td>\n      <td>13.62</td>\n    </tr>\n    <tr>\n      <th>Iskadarya95</th>\n      <td>3</td>\n      <td>4.366667</td>\n      <td>13.10</td>\n    </tr>\n  </tbody>\n</table>\n</div>"
     },
     "metadata": {},
     "execution_count": 8
    }
   ],
   "source": [
    "#top spenders: Lisosia93, Idastidru52, Chamjask73, Iral74, Iskadarya95\n",
    "#cols: Purchase Count, Average Purchase Price, Total Purchase Value\n",
    "top_spenders_groupby = purchase_data.groupby([\"SN\"])\n",
    "ts_total_purchase_value = top_spenders_groupby[\"Price\"].sum().sort_values(ascending=False)\n",
    "ts_purchase_count = top_spenders_groupby[\"Price\"].count().sort_values(ascending=False)\n",
    "ts_avg_purchase_price = (ts_total_purchase_value / ts_purchase_count).sort_values(ascending=False)\n",
    "\n",
    "#ts_avg_purchase_price.head(20)\n",
    "\n",
    "top_spenders_df = pd.concat([ts_purchase_count, ts_avg_purchase_price, ts_total_purchase_value], axis=1)\n",
    "top_spenders_df.columns = (\"Purchase Count\", \"Average Purchase Price\", \"Total Purchase Value\")\n",
    "top_spenders_df.sort_values(by=\"Total Purchase Value\", ascending=False).head(5)\n",
    "\n",
    "#TODO: formatting\n"
   ]
  },
  {
   "cell_type": "markdown",
   "metadata": {},
   "source": [
    "## Most Popular Items"
   ]
  },
  {
   "cell_type": "markdown",
   "metadata": {},
   "source": [
    "* Retrieve the Item ID, Item Name, and Item Price columns\n",
    "\n",
    "\n",
    "* Group by Item ID and Item Name. Perform calculations to obtain purchase count, average item price, and total purchase value\n",
    "\n",
    "\n",
    "* Create a summary data frame to hold the results\n",
    "\n",
    "\n",
    "* Sort the purchase count column in descending order\n",
    "\n",
    "\n",
    "* Optional: give the displayed data cleaner formatting\n",
    "\n",
    "\n",
    "* Display a preview of the summary data frame\n",
    "\n"
   ]
  },
  {
   "cell_type": "code",
   "execution_count": 39,
   "metadata": {},
   "outputs": [
    {
     "output_type": "execute_result",
     "data": {
      "text/plain": [
       "                                            Item Name  Purchase Count  \\\n",
       "Item ID                                                                 \n",
       "92                                       Final Critic              13   \n",
       "178      Oathbreaker, Last Hope of the Breaking Storm              12   \n",
       "145                              Fiery Glass Crusader               9   \n",
       "132                                        Persuasion               9   \n",
       "108         Extraction, Quickblade Of Trembling Hands               9   \n",
       "\n",
       "         Item Price  Total Purchase Value  \n",
       "Item ID                                    \n",
       "92             4.88                 59.99  \n",
       "178            4.23                 50.76  \n",
       "145            4.58                 41.22  \n",
       "132            3.19                 28.99  \n",
       "108            3.53                 31.77  "
      ],
      "text/html": "<div>\n<style scoped>\n    .dataframe tbody tr th:only-of-type {\n        vertical-align: middle;\n    }\n\n    .dataframe tbody tr th {\n        vertical-align: top;\n    }\n\n    .dataframe thead th {\n        text-align: right;\n    }\n</style>\n<table border=\"1\" class=\"dataframe\">\n  <thead>\n    <tr style=\"text-align: right;\">\n      <th></th>\n      <th>Item Name</th>\n      <th>Purchase Count</th>\n      <th>Item Price</th>\n      <th>Total Purchase Value</th>\n    </tr>\n    <tr>\n      <th>Item ID</th>\n      <th></th>\n      <th></th>\n      <th></th>\n      <th></th>\n    </tr>\n  </thead>\n  <tbody>\n    <tr>\n      <th>92</th>\n      <td>Final Critic</td>\n      <td>13</td>\n      <td>4.88</td>\n      <td>59.99</td>\n    </tr>\n    <tr>\n      <th>178</th>\n      <td>Oathbreaker, Last Hope of the Breaking Storm</td>\n      <td>12</td>\n      <td>4.23</td>\n      <td>50.76</td>\n    </tr>\n    <tr>\n      <th>145</th>\n      <td>Fiery Glass Crusader</td>\n      <td>9</td>\n      <td>4.58</td>\n      <td>41.22</td>\n    </tr>\n    <tr>\n      <th>132</th>\n      <td>Persuasion</td>\n      <td>9</td>\n      <td>3.19</td>\n      <td>28.99</td>\n    </tr>\n    <tr>\n      <th>108</th>\n      <td>Extraction, Quickblade Of Trembling Hands</td>\n      <td>9</td>\n      <td>3.53</td>\n      <td>31.77</td>\n    </tr>\n  </tbody>\n</table>\n</div>"
     },
     "metadata": {},
     "execution_count": 39
    }
   ],
   "source": [
    "#Cols: sorted by item id, item name; Purchase Count, Item Price, Total Purchase Value\n",
    "\n",
    "pop_items_df = purchase_data[[\"Item ID\", \"Item Name\", \"Price\"]].copy()\n",
    "#pop_items_df.sort_values(by=\"Price\", ascending=False)\n",
    "pop_items_groupby = pop_items_df.groupby([\"Item ID\"])\n",
    "pop_total_price = pop_items_groupby[\"Price\"].sum().sort_values(ascending=False)\n",
    "pop_purchase_count = pop_items_groupby[\"Price\"].count().sort_values(ascending=False)\n",
    "pop_item_price = pop_items_groupby[\"Price\"]\n",
    "#pop_items_df[\"Price\"]\n",
    "\n",
    "\n",
    "\n",
    "#pop_total_price\n",
    "unique_item_names = purchase_data[\"Item Name\"].unique()\n",
    "#unique_item_names\n",
    "pop_item_price = purchase_data.loc[:,[\"Item ID\", \"Price\"]]\n",
    "new_pop_item_price = pop_item_price.drop_duplicates(subset=\"Item ID\")\n",
    "pop_item_names = purchase_data.loc[:,[\"Item ID\", \"Item Name\"]].drop_duplicates(subset=\"Item ID\")\n",
    "pop_item_names.set_index(\"Item ID\", inplace=True)\n",
    "\n",
    "new_pop_item_price.set_index(\"Item ID\", inplace=True)\n",
    "pop_items_summary_df = pd.concat([pop_item_names, pop_purchase_count, new_pop_item_price, pop_total_price], axis=1)\n",
    "pop_items_summary_df.columns = [\"Item Name\", \"Purchase Count\", \"Item Price\", \"Total Purchase Value\"]\n",
    "pop_items_summary_df.sort_values(by=\"Purchase Count\", ascending=False, inplace=True)\n",
    "pop_items_summary_df.head(5)\n",
    "\n",
    "#TODO: Clean up code\n",
    "#NOTE: Final Critic has 2 different prices: 4.88 and 4.19, this accounts for 59.99 != 13*4.88\n",
    "\n",
    "\n",
    "\n",
    "\n",
    "#179 unique items\n",
    "#pop_items_df[\"Item ID\"].nunique()\n",
    "\n",
    "#gives 690 rows\n",
    "#print(pop_items_groupby.head())\n",
    "\n",
    "#original csv has 780 rows\n",
    "\n",
    "#pop_purchase_count\n",
    "#print(pop_items_groupby[\"Price\"].head().sort_values(ascending=False))\n",
    "#print(pop_items_groupby.count().sort_values(by=\"Price\", ascending=False))"
   ]
  },
  {
   "cell_type": "markdown",
   "metadata": {},
   "source": [
    "## Most Profitable Items"
   ]
  },
  {
   "cell_type": "markdown",
   "metadata": {},
   "source": [
    "* Sort the above table by total purchase value in descending order\n",
    "\n",
    "\n",
    "* Optional: give the displayed data cleaner formatting\n",
    "\n",
    "\n",
    "* Display a preview of the data frame\n",
    "\n"
   ]
  },
  {
   "cell_type": "code",
   "execution_count": 10,
   "metadata": {
    "scrolled": true
   },
   "outputs": [
    {
     "data": {
      "text/html": [
       "<div>\n",
       "<style scoped>\n",
       "    .dataframe tbody tr th:only-of-type {\n",
       "        vertical-align: middle;\n",
       "    }\n",
       "\n",
       "    .dataframe tbody tr th {\n",
       "        vertical-align: top;\n",
       "    }\n",
       "\n",
       "    .dataframe thead th {\n",
       "        text-align: right;\n",
       "    }\n",
       "</style>\n",
       "<table border=\"1\" class=\"dataframe\">\n",
       "  <thead>\n",
       "    <tr style=\"text-align: right;\">\n",
       "      <th></th>\n",
       "      <th></th>\n",
       "      <th>Purchase Count</th>\n",
       "      <th>Item Price</th>\n",
       "      <th>Total Purchase Value</th>\n",
       "    </tr>\n",
       "    <tr>\n",
       "      <th>Item ID</th>\n",
       "      <th>Item Name</th>\n",
       "      <th></th>\n",
       "      <th></th>\n",
       "      <th></th>\n",
       "    </tr>\n",
       "  </thead>\n",
       "  <tbody>\n",
       "    <tr>\n",
       "      <th>92</th>\n",
       "      <th>Final Critic</th>\n",
       "      <td>13</td>\n",
       "      <td>$4.61</td>\n",
       "      <td>$59.99</td>\n",
       "    </tr>\n",
       "    <tr>\n",
       "      <th>178</th>\n",
       "      <th>Oathbreaker, Last Hope of the Breaking Storm</th>\n",
       "      <td>12</td>\n",
       "      <td>$4.23</td>\n",
       "      <td>$50.76</td>\n",
       "    </tr>\n",
       "    <tr>\n",
       "      <th>82</th>\n",
       "      <th>Nirvana</th>\n",
       "      <td>9</td>\n",
       "      <td>$4.90</td>\n",
       "      <td>$44.10</td>\n",
       "    </tr>\n",
       "    <tr>\n",
       "      <th>145</th>\n",
       "      <th>Fiery Glass Crusader</th>\n",
       "      <td>9</td>\n",
       "      <td>$4.58</td>\n",
       "      <td>$41.22</td>\n",
       "    </tr>\n",
       "    <tr>\n",
       "      <th>103</th>\n",
       "      <th>Singed Scalpel</th>\n",
       "      <td>8</td>\n",
       "      <td>$4.35</td>\n",
       "      <td>$34.80</td>\n",
       "    </tr>\n",
       "  </tbody>\n",
       "</table>\n",
       "</div>"
      ],
      "text/plain": [
       "                                                     Purchase Count  \\\n",
       "Item ID Item Name                                                     \n",
       "92      Final Critic                                             13   \n",
       "178     Oathbreaker, Last Hope of the Breaking Storm             12   \n",
       "82      Nirvana                                                   9   \n",
       "145     Fiery Glass Crusader                                      9   \n",
       "103     Singed Scalpel                                            8   \n",
       "\n",
       "                                                     Item Price  \\\n",
       "Item ID Item Name                                                 \n",
       "92      Final Critic                                      $4.61   \n",
       "178     Oathbreaker, Last Hope of the Breaking Storm      $4.23   \n",
       "82      Nirvana                                           $4.90   \n",
       "145     Fiery Glass Crusader                              $4.58   \n",
       "103     Singed Scalpel                                    $4.35   \n",
       "\n",
       "                                                     Total Purchase Value  \n",
       "Item ID Item Name                                                          \n",
       "92      Final Critic                                               $59.99  \n",
       "178     Oathbreaker, Last Hope of the Breaking Storm               $50.76  \n",
       "82      Nirvana                                                    $44.10  \n",
       "145     Fiery Glass Crusader                                       $41.22  \n",
       "103     Singed Scalpel                                             $34.80  "
      ]
     },
     "execution_count": 10,
     "metadata": {},
     "output_type": "execute_result"
    }
   ],
   "source": [
    "#just add formatting to previous df\n",
    "#my df has only Item ID as index, this one has both Item ID and Item Name indexed\n",
    "#this df also averages the item price for Final Critic\n",
    "\n",
    "#pop_items_summary_df.sort_values(by=\"Total Purchase Value\", ascending=False, inplace=True)\n",
    "#pop_items_summary_df.head(5)"
   ]
  }
 ],
 "metadata": {
  "anaconda-cloud": {},
  "kernel_info": {
   "name": "python3"
  },
  "kernelspec": {
   "name": "python3610jvsc74a57bd0ec74549fe6943598ad391168db2b79c223dd398876bde91387de495bd9ded36a",
   "display_name": "Python 3.6.10 64-bit ('PythonData': conda)"
  },
  "language_info": {
   "codemirror_mode": {
    "name": "ipython",
    "version": 3
   },
   "file_extension": ".py",
   "mimetype": "text/x-python",
   "name": "python",
   "nbconvert_exporter": "python",
   "pygments_lexer": "ipython3",
   "version": "3.6.10"
  },
  "latex_envs": {
   "LaTeX_envs_menu_present": true,
   "autoclose": false,
   "autocomplete": true,
   "bibliofile": "biblio.bib",
   "cite_by": "apalike",
   "current_citInitial": 1,
   "eqLabelWithNumbers": true,
   "eqNumInitial": 1,
   "hotkeys": {
    "equation": "Ctrl-E",
    "itemize": "Ctrl-I"
   },
   "labels_anchors": false,
   "latex_user_defs": false,
   "report_style_numbering": false,
   "user_envs_cfg": false
  },
  "nteract": {
   "version": "0.2.0"
  }
 },
 "nbformat": 4,
 "nbformat_minor": 2
}